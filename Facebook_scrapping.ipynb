{
  "nbformat": 4,
  "nbformat_minor": 0,
  "metadata": {
    "colab": {
      "provenance": []
    },
    "kernelspec": {
      "name": "python3",
      "display_name": "Python 3"
    },
    "language_info": {
      "name": "python"
    }
  },
  "cells": [
    {
      "cell_type": "markdown",
      "source": [
        "# **Import Required Libraries**"
      ],
      "metadata": {
        "id": "8lexm6VGCRh0"
      }
    },
    {
      "cell_type": "code",
      "source": [
        "from bs4 import BeautifulSoup\n",
        "#from selenium import webdriver\n",
        "import time\n",
        "from selenium.webdriver.common.keys import Keys\n",
        "import json\n",
        "import os\n",
        "import re\n",
        "\n",
        "from selenium.webdriver.common.by import By\n",
        "from selenium.webdriver.support.ui import WebDriverWait\n",
        "from selenium.webdriver.support import expected_conditions as EC\n",
        "from selenium.common.exceptions import NoSuchElementException\n",
        "\n",
        "from datetime import datetime, timedelta"
      ],
      "metadata": {
        "id": "f9nOvWgW1vot"
      },
      "execution_count": null,
      "outputs": []
    },
    {
      "cell_type": "code",
      "source": [
        "url = \"https://www.facebook.com/Hespress/videos\"\n",
        "number_of_scroll=20"
      ],
      "metadata": {
        "id": "acD4K2z74Qpd"
      },
      "execution_count": null,
      "outputs": []
    },
    {
      "cell_type": "markdown",
      "source": [
        "# **Function to Load Videos: Titles, Likes, Views, Links**"
      ],
      "metadata": {
        "id": "ViBwZiBhDKOo"
      }
    },
    {
      "cell_type": "code",
      "source": [
        "def get_post_vid(url, nbr_scroll):\n",
        "  chrome_options = webdriver.ChromeOptions()\n",
        "  chrome_options.add_argument(\"--disable-notifications\")\n",
        "\n",
        "  driver = webdriver.Chrome(executable_path=r'',options=chrome_options)\n",
        "\n",
        "\n",
        "  driver.get(url)\n",
        "\n",
        "  time.sleep(5)\n",
        "\n",
        "  email_input = driver.find_element_by_name(\"email\")\n",
        "  password_input = driver.find_element_by_name(\"pass\")\n",
        "\n",
        "  # Enter your email and password\n",
        "  email_input.send_keys(\"\")\n",
        "  password_input.send_keys(\"\")\n",
        "\n",
        "  # Find and click the \"Se connecter\" button\n",
        "  se_connecter_button = driver.find_element(By.XPATH, f'//div[contains(@class, \"x1i10hfl x1qjc9v5 xjqpnuy xa49m3k xqeqjp1 x2hbi6w x13fuv20 xu3j5b3 x1q0q8m5 x26u7qi x972fbf xcfux6l x1qhh985 xm0m39n x9f619 x1ypdohk xdl72j9 x2lah0s xe8uvvx xdj266r x11i5rnm xat24cr x1mh8g0r x2lwn1j xeuugli x1n2onr6 x16tdsg8 x1hl2dhg xggy1nq x1ja2u2z x1t137rt x3nfvp2 x1q0g3np x87ps6o x1lku1pv x1a2a7pz xtvsq51 xhk9q7s x1otrzb0 x1i1ezom x1o6z2jb x1vqgdyp x6ikm8r x10wlt62 xexx8yu xn6708d x1120s5i x1ye3gou\")]')  # Replace with the actual name attribute of the button\n",
        "  driver.execute_script(\"arguments[0].click();\", se_connecter_button)\n",
        "\n",
        "\n",
        "  for _ in range(nbr_scroll):\n",
        "      driver.find_element(By.TAG_NAME, 'body').send_keys(Keys.PAGE_DOWN)\n",
        "      time.sleep(2)\n",
        "\n",
        "  html = driver.page_source\n",
        "  soup = BeautifulSoup(html, \"html.parser\")\n",
        "\n",
        "  container_div = soup.find(\"div\", class_=\"x1qjc9v5 x1lq5wgf xgqcy7u x30kzoy x9jhf4c x78zum5 xdt5ytf x1l90r2v xyamay9 xjl7jj\")\n",
        "  data_table = []\n",
        "  try:\n",
        "      if container_div:\n",
        "\n",
        "          pubs = container_div.find_all(\"div\", class_=\"x9f619 x1r8uery x1iyjqo2 x6ikm8r x10wlt62 x1n2onr6\")\n",
        "\n",
        "          for pub in pubs:\n",
        "\n",
        "              title = pub.find(\"span\", class_=\"x1lliihq x6ikm8r x10wlt62 x1n2onr6\")\n",
        "              title = title.text.strip().replace('\\xa0', ' ').replace('\\n', ' ') if title else \"Title not found\"\n",
        "\n",
        "              views = pub.find(\"span\", class_=\"x193iq5w xeuugli x13faqbe x1vvkbs x1xmvt09 x1lliihq x1s928wv xhkezso x1gmr53x x1cpjm7i x1fgarty x1943h6x x4zkp8e x676frb x1nxh6w3 x1sibtaa xo1l8bm x12scifz x1yc453h\").find_next(\"div\")\n",
        "              views = views.text.strip() if views else \"0\"\n",
        "              views = views.replace('\\xa0', '')\n",
        "              if re.search(r'\\bvue\\w*\\b', views):\n",
        "                  pass\n",
        "              else:\n",
        "                  views = \"0 vue\"\n",
        "\n",
        "              like = pub.find(\"span\",class_=\"xt0b8zv xjbqb8w xrbpyxo x1mh8g0r x6ikm8r x10wlt62 xlyipyv xuxw1ft\")\n",
        "              like = like.text.strip().replace('\\xa0', '') if like else \"0\"\n",
        "\n",
        "              link = pub.find(\"a\",class_=\"x1i10hfl xjbqb8w x6umtig x1b1mbwd xaqea5y xav7gou x9f619 x1ypdohk xt0psk2 xe8uvvx xdj266r x11i5rnm xat24cr x1mh8g0r xexx8yu x4uap5 x18d9i69 xkhd6sd x16tdsg8 x1hl2dhg xggy1nq x1a2a7pz x1heor9g xt0b8zv\")\n",
        "              link = link.get('href').strip() if link else \"link not found\"\n",
        "\n",
        "              data_table.append({\"Title\":title,\"Like\":like,\"Views\":views,\"Link\":link})\n",
        "\n",
        "  except AttributeError as e:\n",
        "      print(f\"Error: {e}\")\n",
        "      views = \"Views not found\"\n",
        "\n",
        "  driver.quit()\n",
        "\n",
        "  return data_table"
      ],
      "metadata": {
        "id": "QAgbSBKH36MB"
      },
      "execution_count": null,
      "outputs": []
    },
    {
      "cell_type": "markdown",
      "source": [
        "# **Function to Load Number of Shares and Date**"
      ],
      "metadata": {
        "id": "fuKYY6_FDaK1"
      }
    },
    {
      "cell_type": "code",
      "source": [
        "def get_share(url):\n",
        "\n",
        "  share_table= []\n",
        "  mobile_emulation = {\n",
        "      \"deviceMetrics\": {\"width\": 360, \"height\": 640, \"pixelRatio\": 3.0},\n",
        "      \"userAgent\": \"Mozilla/5.0 (Linux; Android 6.0; Nexus 5 Build/MRA58N) AppleWebKit/537.36 (KHTML, like Gecko) Chrome/91.0.4472.124 Mobile Safari/537.36\",\n",
        "  }\n",
        "\n",
        "  chrome_options = webdriver.ChromeOptions()\n",
        "  chrome_options.add_experimental_option(\"mobileEmulation\", mobile_emulation)\n",
        "\n",
        "  driver = webdriver.Chrome(executable_path=r'C:\\Users\\khali\\Desktop\\chromedriver-win64\\chromedriver.exe', options=chrome_options)\n",
        "\n",
        "  url =driver.get(url)\n",
        "  time.sleep(4)\n",
        "\n",
        "  se_connecter_button = driver.find_element(By.XPATH, f'//div[contains(text(), \"󱤅\")]')\n",
        "  driver.execute_script(\"arguments[0].click();\", se_connecter_button)\n",
        "  time.sleep(5)\n",
        "  for _ in range(2):\n",
        "      driver.find_element_by_tag_name('body').send_keys(Keys.PAGE_DOWN)\n",
        "      time.sleep(2)\n",
        "\n",
        "  driver.implicitly_wait(10)\n",
        "\n",
        "  # Get the updated page source\n",
        "  page_source = driver.page_source\n",
        "\n",
        "  # Parse the page source with BeautifulSoup\n",
        "  soup = BeautifulSoup(page_source, 'html.parser')\n",
        "\n",
        "  # Find the button with class 'native-text'\n",
        "  button_element = soup.find_all('button', class_='native-text')\n",
        "  if (len(button_element[3].text.split(' '))>=2):\n",
        "      share_table.append(button_element[3].text.split(' ')[1])\n",
        "  else:\n",
        "      share_table.append(\"0\")\n",
        "\n",
        "  element = soup.find('div',class_='m')\n",
        "\n",
        "  if element:\n",
        "      week = element.find_all('span',class_=\"f5\")\n",
        "      week = week[0].text.replace(\"\\U000f078b\\U000f07e1\",\"\").replace(\"\\U000f078b\",\"\")\n",
        "      share_table.append(week)\n",
        "  driver.quit()\n",
        "  return share_table"
      ],
      "metadata": {
        "id": "Ph6feM9O36OK"
      },
      "execution_count": null,
      "outputs": []
    },
    {
      "cell_type": "markdown",
      "source": [
        "# **Function for Normalizing Dates**"
      ],
      "metadata": {
        "id": "D62qdzSyCQMU"
      }
    },
    {
      "cell_type": "code",
      "source": [
        "def update_date(date_str):\n",
        "\n",
        "    current_year = \"2023\"\n",
        "    date_str = date_str.strip()\n",
        "    current_year = date_str.split()[-1] if date_str.count(' ') > 1 else None\n",
        "    now = datetime.now()\n",
        "\n",
        "    if 'h' in date_str:\n",
        "        specified_hour = int(date_str.split('h')[0])\n",
        "        hour_difference = now.hour - specified_hour\n",
        "        if hour_difference < 0:\n",
        "            return (now - timedelta(days=1)).strftime(\"%d/%m/%Y\")\n",
        "        else:\n",
        "            return now.strftime(\"%d/%m/%Y\")\n",
        "    elif ('j' in date_str) and (len(date_str) == 3):\n",
        "        days_ago = int(date_str.split()[0])\n",
        "        updated_date = now - timedelta(days=days_ago)\n",
        "        return updated_date.strftime(\"%d/%m/%Y\")\n",
        "    elif 'min' in date_str:\n",
        "        return now.strftime(\"%d/%m/%Y\")\n",
        "    else:\n",
        "        parts = date_str.split()\n",
        "        day = int(parts[0])\n",
        "        month_name = parts[1]\n",
        "        # Map month names to month numbers\n",
        "        month_dict = {\n",
        "            'janv.': 1, 'févr.': 2, 'mars': 3, 'avr.': 4, 'mai': 5, 'juin': 6,\n",
        "            'juil.': 7, 'août': 8, 'sept.': 9, 'oct.': 10, 'nov.': 11, 'déc.': 12\n",
        "        }\n",
        "\n",
        "        month = month_dict.get(month_name, 1)\n",
        "\n",
        "        # Add the year if specified\n",
        "        if current_year and current_year.isdigit():\n",
        "            year = int(current_year)\n",
        "        else:\n",
        "            year = now.year\n",
        "\n",
        "        updated_date = datetime(year, month, day)\n",
        "        return updated_date.strftime(\"%d/%m/%Y\")"
      ],
      "metadata": {
        "id": "dbw5ULAi36Yk"
      },
      "execution_count": null,
      "outputs": []
    },
    {
      "cell_type": "markdown",
      "source": [
        "# **Function to Retrieve Comments and Duration**"
      ],
      "metadata": {
        "id": "4IiE-8mDIjf5"
      }
    },
    {
      "cell_type": "code",
      "source": [
        "def get_comment(url):\n",
        "    comments_list=[]\n",
        "\n",
        "    chrome_options = webdriver.ChromeOptions()\n",
        "    chrome_options.add_argument(\"--disable-notifications\")\n",
        "\n",
        "    driver = webdriver.Chrome(executable_path=r'C:\\Users\\khali\\Desktop\\chromedriver-win64\\chromedriver.exe',options=chrome_options)\n",
        "    driver.set_window_size(1300, 800)\n",
        "    driver.get(url)\n",
        "\n",
        "    time.sleep(5)\n",
        "\n",
        "    email_input = driver.find_element_by_name(\"email\")\n",
        "    password_input = driver.find_element_by_name(\"pass\")\n",
        "\n",
        "\n",
        "    email_input.send_keys(\"njr36965@gmail.com\")\n",
        "    password_input.send_keys(\"wydadac\")\n",
        "\n",
        "    se_connecter_button = driver.find_element(By.XPATH, f'//div[contains(@class,\"x1i10hfl x1qjc9v5 xjqpnuy xa49m3k xqeqjp1 x2hbi6w x13fuv20 xu3j5b3 x1q0q8m5 x26u7qi x972fbf xcfux6l x1qhh985 xm0m39n x9f619 x1ypdohk xdl72j9 x2lah0s xe8uvvx xdj266r x11i5rnm xat24cr x1mh8g0r x2lwn1j xeuugli x1n2onr6 x16tdsg8 x1hl2dhg xggy1nq x1ja2u2z x1t137rt x3nfvp2 x1q0g3np x87ps6o x1lku1pv x1a2a7pz xtvsq51 xhk9q7s x1otrzb0 x1i1ezom x1o6z2jb x1vqgdyp x6ikm8r x10wlt62 xexx8yu xn6708d x1120s5i x1ye3gou\")]')\n",
        "    driver.execute_script(\"arguments[0].click();\", se_connecter_button)\n",
        "\n",
        "    time.sleep(8)\n",
        "\n",
        "    tous_comments = driver.find_element(By.XPATH,f'//span[contains(@class, \"x193iq5w xeuugli x13faqbe x1vvkbs x1xmvt09 x1lliihq x1s928wv xhkezso x1gmr53x x1cpjm7i x1fgarty x1943h6x xudqn12 x3x7a5m x6prxxf xvq8zen x1s688f xi81zsa\")]')\n",
        "    driver.execute_script(\"arguments[0].click();\", tous_comments)\n",
        "\n",
        "    time.sleep(5)\n",
        "    tous_comments_1 = driver.find_element(By.XPATH,f'//span[contains(text(), \"Tous les commentaires\")]')\n",
        "    driver.execute_script(\"arguments[0].click();\", tous_comments_1)\n",
        "\n",
        "    time.sleep(5)\n",
        "\n",
        "    element_to_find = ['Voir', 'Afficher']\n",
        "    span_element=None\n",
        "    for text in element_to_find:\n",
        "        try:\n",
        "            span_element = driver.find_element(By.XPATH, f'//span[contains(text(), \"{text}\")]')\n",
        "            break\n",
        "\n",
        "        except NoSuchElementException:\n",
        "            pass\n",
        "\n",
        "    if span_element is not None:\n",
        "        for i in range(10):\n",
        "            try:\n",
        "                driver.execute_script(\"arguments[0].click();\", span_element)\n",
        "                time.sleep(5)\n",
        "            except:\n",
        "                break\n",
        "\n",
        "    time.sleep(10)\n",
        "\n",
        "    html = driver.page_source\n",
        "    soup = BeautifulSoup(html, \"html.parser\")\n",
        "\n",
        "\n",
        "    comment = soup.find(\"span\",class_=\"x193iq5w xeuugli x13faqbe x1vvkbs x1xmvt09 x1lliihq x1s928wv xhkezso x1gmr53x x1cpjm7i x1fgarty x1943h6x x4zkp8e x676frb x1nxh6w3 x1sibtaa xo1l8bm xi81zsa\")\n",
        "    comment = comment.text.replace('\\xa0', '') if comment else \"0\"\n",
        "    if re.search(r'\\bcomment\\w*\\b', comment):\n",
        "        pass\n",
        "    else:\n",
        "        comment = \"0 commentaire\"\n",
        "    comments_list.append(comment)\n",
        "\n",
        "    dure = soup.find_all(\"div\",class_=\"x14ctfv x1rg5ohu x1pg5gke xss6m8b x7h9g57 x1t4t16n x8j4wrb x9hgts1 x2b8uid x27saw0 x3ajldb\")\n",
        "    dure = (dure[0].text).split('/')[1] if dure else \"Dure not found\"\n",
        "    comments_list.append(dure)\n",
        "\n",
        "    container_div = soup.find(\"div\", class_=\"x78zum5 xdt5ytf x6ikm8r x1odjw0f x1iyjqo2 x1pi30zi x1swvt13\")\n",
        "    if container_div:\n",
        "        pubs = container_div.find_all(\"div\", class_=\"xdj266r x11i5rnm xat24cr x1mh8g0r x1vvkbs\")\n",
        "        list_comment = []\n",
        "        for pub in pubs:\n",
        "            list_comment.append(pub.text.replace('\\xa0', ' ').replace('\\n', ' '))\n",
        "        comments_list.append(list_comment)\n",
        "\n",
        "    driver.quit()\n",
        "\n",
        "    return comments_list"
      ],
      "metadata": {
        "id": "YPsyiVxO36fs"
      },
      "execution_count": null,
      "outputs": []
    },
    {
      "cell_type": "markdown",
      "source": [
        "## **Compare Date**"
      ],
      "metadata": {
        "id": "gBTLThRfKxfa"
      }
    },
    {
      "cell_type": "code",
      "source": [
        "def compare_date(post_date, mydate)\n",
        "\n",
        "  date_p = datetime.strptime(post_date, \"%d/%m/%Y\")\n",
        "  date = datetime.strptime(mydate, \"%d/%m/%Y\")\n",
        "\n",
        "  if date_p > date:\n",
        "      return True\n",
        "  else :\n",
        "      return False"
      ],
      "metadata": {
        "id": "nVuvmgkjK31i"
      },
      "execution_count": null,
      "outputs": []
    },
    {
      "cell_type": "markdown",
      "source": [
        "## **Retrieve video posts and check whether they fall within the desired date range.**"
      ],
      "metadata": {
        "id": "m1BhSsurJQik"
      }
    },
    {
      "cell_type": "code",
      "source": [
        "url = \"  \"\n",
        "date = \"14/07/2023\"\n",
        "number_scroll = 5\n",
        "\n",
        "video_post = get_post_vid(url, number_scroll)\n",
        "last_video = video_post[-1][\"Link\"]\n",
        "\n",
        "date_last_video = update_date(get_share(last_video)[1])\n",
        "ok = compare_date(date_last_video,date)\n",
        "\n",
        "while (ok==False):\n",
        "  number_scroll += 5\n",
        "  video_post = get_post_vid(url, number_scroll)\n",
        "  last_video = video_post[-1][\"Link\"]\n",
        "\n",
        "  date_last_video = update_date(get_share(last_video)[1])\n",
        "  ok = compare_date(date_last_video,date)"
      ],
      "metadata": {
        "colab": {
          "base_uri": "https://localhost:8080/",
          "height": 245
        },
        "id": "yIJywtdAJMZZ",
        "outputId": "c52d05ac-fd03-4e36-a846-2cd0a7c52b07"
      },
      "execution_count": null,
      "outputs": [
        {
          "output_type": "error",
          "ename": "NameError",
          "evalue": "ignored",
          "traceback": [
            "\u001b[0;31m---------------------------------------------------------------------------\u001b[0m",
            "\u001b[0;31mNameError\u001b[0m                                 Traceback (most recent call last)",
            "\u001b[0;32m<ipython-input-23-0badf9417eef>\u001b[0m in \u001b[0;36m<cell line: 5>\u001b[0;34m()\u001b[0m\n\u001b[1;32m      3\u001b[0m \u001b[0mnumber_scroll\u001b[0m \u001b[0;34m=\u001b[0m \u001b[0;36m5\u001b[0m\u001b[0;34m\u001b[0m\u001b[0;34m\u001b[0m\u001b[0m\n\u001b[1;32m      4\u001b[0m \u001b[0;34m\u001b[0m\u001b[0m\n\u001b[0;32m----> 5\u001b[0;31m \u001b[0mvideo_post\u001b[0m \u001b[0;34m=\u001b[0m \u001b[0mget_post_vid\u001b[0m\u001b[0;34m(\u001b[0m\u001b[0murl\u001b[0m\u001b[0;34m,\u001b[0m \u001b[0mnumber_scroll\u001b[0m\u001b[0;34m)\u001b[0m\u001b[0;34m\u001b[0m\u001b[0;34m\u001b[0m\u001b[0m\n\u001b[0m\u001b[1;32m      6\u001b[0m \u001b[0mlast_video\u001b[0m \u001b[0;34m=\u001b[0m \u001b[0mvideo_post\u001b[0m\u001b[0;34m[\u001b[0m\u001b[0;34m-\u001b[0m\u001b[0;36m1\u001b[0m\u001b[0;34m]\u001b[0m\u001b[0;34m[\u001b[0m\u001b[0;34m\"Link\"\u001b[0m\u001b[0;34m]\u001b[0m\u001b[0;34m\u001b[0m\u001b[0;34m\u001b[0m\u001b[0m\n\u001b[1;32m      7\u001b[0m \u001b[0;34m\u001b[0m\u001b[0m\n",
            "\u001b[0;31mNameError\u001b[0m: name 'get_post_vid' is not defined"
          ]
        }
      ]
    },
    {
      "cell_type": "code",
      "source": [],
      "metadata": {
        "id": "CFo9ESd2LbbN"
      },
      "execution_count": null,
      "outputs": []
    }
  ]
}